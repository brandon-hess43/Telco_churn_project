{
 "cells": [
  {
   "cell_type": "markdown",
   "id": "f87fd693-7f55-4205-bb32-a44260a3d349",
   "metadata": {},
   "source": [
    "# **Telco Churn Analysis**\n"
   ]
  },
  {
   "cell_type": "markdown",
   "id": "ce8fb8b1-d845-4319-a136-c68ddbd6de23",
   "metadata": {
    "tags": []
   },
   "source": [
    "# Project Overview"
   ]
  },
  {
   "cell_type": "markdown",
   "id": "4c76606e-f546-47ba-9449-d867c4136c9c",
   "metadata": {},
   "source": [
    "I am analyzing the Telco Churn data to identify key drivers for customer churn and develop predictive models to accurately forecast churn, giving insights into potential customer retention strategies."
   ]
  },
  {
   "cell_type": "markdown",
   "id": "ba3cb624-a859-4316-b99f-4b0cbd096430",
   "metadata": {
    "tags": []
   },
   "source": [
    "## Project Goals"
   ]
  },
  {
   "cell_type": "markdown",
   "id": "e660e592-6008-4d94-b336-836587064a6d",
   "metadata": {},
   "source": [
    "- Determine the main drivers contributing to customer churn\n",
    "- Use drivers to develop a machine learning model that identifies customers likely to churn\n",
    "- This information could be used to create actionable recommendations to reduce churn"
   ]
  },
  {
   "cell_type": "markdown",
   "id": "ebc10dbd-9bef-4deb-8a26-01fa55b7789b",
   "metadata": {},
   "source": [
    "## Imports"
   ]
  },
  {
   "cell_type": "code",
   "execution_count": 1,
   "id": "03e4715a-f48f-41cd-a92e-80806634ed08",
   "metadata": {
    "tags": []
   },
   "outputs": [],
   "source": [
    "#data manipulations\n",
    "import pandas as pd\n",
    "import numpy as np\n",
    "\n",
    "#visualization\n",
    "import matplotlib.pyplot as plt\n",
    "import seaborn as sns\n",
    "import warnings\n",
    "\n",
    "\n",
    "#stats is great\n",
    "from scipy import stats\n",
    "\n",
    "#modeling imports\n",
    "from sklearn.tree import DecisionTreeClassifier\n",
    "from sklearn.ensemble import RandomForestClassifier\n",
    "from sklearn.linear_model import LogisticRegression\n",
    "from sklearn.neighbors import KNeighborsClassifier\n",
    "\n",
    "#evaulation metrics\n",
    "from sklearn.metrics import classification_report\n",
    "from sklearn.metrics import confusion_matrix\n",
    "\n",
    "#my own files with my own functions\n",
    "import acquire\n",
    "import prepare\n",
    "import os"
   ]
  },
  {
   "cell_type": "markdown",
   "id": "417e329b-7bc0-45de-935b-9d2caad1165c",
   "metadata": {},
   "source": [
    "## Acquiring the data"
   ]
  },
  {
   "cell_type": "markdown",
   "id": "096797b7-e069-4592-b0d7-85821cc10589",
   "metadata": {},
   "source": [
    "- Data was acquired on December 1st, 2023 from the MySQL \"telco_churn\" database hosted on our codeup server\n",
    "- Specifically, the \"customers\", \"contract_types\", \"internet_service_types\", and \"payment_types\" tables\n",
    "- The data contained 7,043 rows and 24 columns before cleaning\n",
    "- Each row represents a customer \n",
    "- Each column represents data about that customer"
   ]
  },
  {
   "cell_type": "code",
   "execution_count": 2,
   "id": "42006aa9-014d-444b-a616-07acafbc0cff",
   "metadata": {
    "tags": []
   },
   "outputs": [
    {
     "name": "stdout",
     "output_type": "stream",
     "text": [
      "this file exists, reading csv\n"
     ]
    },
    {
     "data": {
      "text/html": [
       "<div>\n",
       "<style scoped>\n",
       "    .dataframe tbody tr th:only-of-type {\n",
       "        vertical-align: middle;\n",
       "    }\n",
       "\n",
       "    .dataframe tbody tr th {\n",
       "        vertical-align: top;\n",
       "    }\n",
       "\n",
       "    .dataframe thead th {\n",
       "        text-align: right;\n",
       "    }\n",
       "</style>\n",
       "<table border=\"1\" class=\"dataframe\">\n",
       "  <thead>\n",
       "    <tr style=\"text-align: right;\">\n",
       "      <th></th>\n",
       "      <th>payment_type_id</th>\n",
       "      <th>internet_service_type_id</th>\n",
       "      <th>contract_type_id</th>\n",
       "      <th>customer_id</th>\n",
       "      <th>gender</th>\n",
       "      <th>senior_citizen</th>\n",
       "      <th>partner</th>\n",
       "      <th>dependents</th>\n",
       "      <th>tenure</th>\n",
       "      <th>phone_service</th>\n",
       "      <th>...</th>\n",
       "      <th>tech_support</th>\n",
       "      <th>streaming_tv</th>\n",
       "      <th>streaming_movies</th>\n",
       "      <th>paperless_billing</th>\n",
       "      <th>monthly_charges</th>\n",
       "      <th>total_charges</th>\n",
       "      <th>churn</th>\n",
       "      <th>contract_type</th>\n",
       "      <th>internet_service_type</th>\n",
       "      <th>payment_type</th>\n",
       "    </tr>\n",
       "  </thead>\n",
       "  <tbody>\n",
       "    <tr>\n",
       "      <th>0</th>\n",
       "      <td>2</td>\n",
       "      <td>1</td>\n",
       "      <td>2</td>\n",
       "      <td>0002-ORFBO</td>\n",
       "      <td>Female</td>\n",
       "      <td>0</td>\n",
       "      <td>Yes</td>\n",
       "      <td>Yes</td>\n",
       "      <td>9</td>\n",
       "      <td>Yes</td>\n",
       "      <td>...</td>\n",
       "      <td>Yes</td>\n",
       "      <td>Yes</td>\n",
       "      <td>No</td>\n",
       "      <td>Yes</td>\n",
       "      <td>65.6</td>\n",
       "      <td>593.3</td>\n",
       "      <td>No</td>\n",
       "      <td>One year</td>\n",
       "      <td>DSL</td>\n",
       "      <td>Mailed check</td>\n",
       "    </tr>\n",
       "    <tr>\n",
       "      <th>1</th>\n",
       "      <td>2</td>\n",
       "      <td>1</td>\n",
       "      <td>1</td>\n",
       "      <td>0003-MKNFE</td>\n",
       "      <td>Male</td>\n",
       "      <td>0</td>\n",
       "      <td>No</td>\n",
       "      <td>No</td>\n",
       "      <td>9</td>\n",
       "      <td>Yes</td>\n",
       "      <td>...</td>\n",
       "      <td>No</td>\n",
       "      <td>No</td>\n",
       "      <td>Yes</td>\n",
       "      <td>No</td>\n",
       "      <td>59.9</td>\n",
       "      <td>542.4</td>\n",
       "      <td>No</td>\n",
       "      <td>Month-to-month</td>\n",
       "      <td>DSL</td>\n",
       "      <td>Mailed check</td>\n",
       "    </tr>\n",
       "    <tr>\n",
       "      <th>2</th>\n",
       "      <td>1</td>\n",
       "      <td>2</td>\n",
       "      <td>1</td>\n",
       "      <td>0004-TLHLJ</td>\n",
       "      <td>Male</td>\n",
       "      <td>0</td>\n",
       "      <td>No</td>\n",
       "      <td>No</td>\n",
       "      <td>4</td>\n",
       "      <td>Yes</td>\n",
       "      <td>...</td>\n",
       "      <td>No</td>\n",
       "      <td>No</td>\n",
       "      <td>No</td>\n",
       "      <td>Yes</td>\n",
       "      <td>73.9</td>\n",
       "      <td>280.85</td>\n",
       "      <td>Yes</td>\n",
       "      <td>Month-to-month</td>\n",
       "      <td>Fiber optic</td>\n",
       "      <td>Electronic check</td>\n",
       "    </tr>\n",
       "  </tbody>\n",
       "</table>\n",
       "<p>3 rows × 24 columns</p>\n",
       "</div>"
      ],
      "text/plain": [
       "   payment_type_id  internet_service_type_id  contract_type_id customer_id  \\\n",
       "0                2                         1                 2  0002-ORFBO   \n",
       "1                2                         1                 1  0003-MKNFE   \n",
       "2                1                         2                 1  0004-TLHLJ   \n",
       "\n",
       "   gender  senior_citizen partner dependents  tenure phone_service  ...  \\\n",
       "0  Female               0     Yes        Yes       9           Yes  ...   \n",
       "1    Male               0      No         No       9           Yes  ...   \n",
       "2    Male               0      No         No       4           Yes  ...   \n",
       "\n",
       "  tech_support streaming_tv streaming_movies paperless_billing  \\\n",
       "0          Yes          Yes               No               Yes   \n",
       "1           No           No              Yes                No   \n",
       "2           No           No               No               Yes   \n",
       "\n",
       "  monthly_charges total_charges churn   contract_type  internet_service_type  \\\n",
       "0            65.6         593.3    No        One year                    DSL   \n",
       "1            59.9         542.4    No  Month-to-month                    DSL   \n",
       "2            73.9        280.85   Yes  Month-to-month            Fiber optic   \n",
       "\n",
       "       payment_type  \n",
       "0      Mailed check  \n",
       "1      Mailed check  \n",
       "2  Electronic check  \n",
       "\n",
       "[3 rows x 24 columns]"
      ]
     },
     "execution_count": 2,
     "metadata": {},
     "output_type": "execute_result"
    }
   ],
   "source": [
    "# Import acquired messy data from your acquire file here\n",
    "df = acquire.get_telco_data()\n",
    "df.head(3)"
   ]
  },
  {
   "cell_type": "markdown",
   "id": "ac919e18-34ba-4383-9492-b2a0e7bac5a8",
   "metadata": {},
   "source": [
    "## Prepare"
   ]
  },
  {
   "cell_type": "markdown",
   "id": "778eaff8-a17a-4482-9383-7d753078ce57",
   "metadata": {},
   "source": [
    "**Prepare Actions:**"
   ]
  },
  {
   "cell_type": "markdown",
   "id": "004e449a-8b9a-485f-9142-fbcc443aed18",
   "metadata": {},
   "source": [
    "- Removed redundant columns\n",
    "- Checked for null values\n",
    "- Checked for duplicate rows\n",
    "- Removed whitespace from values in \"total_charges\" column\n",
    "- Checked that column data types were appropriate\n",
    "- Outliers have not been removed for this iteration of the project"
   ]
  },
  {
   "cell_type": "code",
   "execution_count": 3,
   "id": "dbe7ac06-f7da-4d24-b9ac-0d3924262833",
   "metadata": {
    "tags": []
   },
   "outputs": [],
   "source": [
    "# acquiring and cleaning the data\n",
    "df = prepare.prep_telco(df)\n",
    "# splitting data into train, validate, and test\n",
    "train, validate, test = prepare.splitting_data(df, 'churn')"
   ]
  },
  {
   "cell_type": "markdown",
   "id": "123caebe-b030-462b-8c8c-76dbac141727",
   "metadata": {},
   "source": [
    "## A brief look at the data"
   ]
  },
  {
   "cell_type": "code",
   "execution_count": 4,
   "id": "1be7fb6a-c2f8-4820-9d95-39806717c33f",
   "metadata": {
    "tags": []
   },
   "outputs": [
    {
     "data": {
      "text/html": [
       "<div>\n",
       "<style scoped>\n",
       "    .dataframe tbody tr th:only-of-type {\n",
       "        vertical-align: middle;\n",
       "    }\n",
       "\n",
       "    .dataframe tbody tr th {\n",
       "        vertical-align: top;\n",
       "    }\n",
       "\n",
       "    .dataframe thead th {\n",
       "        text-align: right;\n",
       "    }\n",
       "</style>\n",
       "<table border=\"1\" class=\"dataframe\">\n",
       "  <thead>\n",
       "    <tr style=\"text-align: right;\">\n",
       "      <th></th>\n",
       "      <th>customer_id</th>\n",
       "      <th>gender</th>\n",
       "      <th>senior_citizen</th>\n",
       "      <th>partner</th>\n",
       "      <th>dependents</th>\n",
       "      <th>tenure</th>\n",
       "      <th>phone_service</th>\n",
       "      <th>multiple_lines</th>\n",
       "      <th>online_security</th>\n",
       "      <th>online_backup</th>\n",
       "      <th>...</th>\n",
       "      <th>tech_support</th>\n",
       "      <th>streaming_tv</th>\n",
       "      <th>streaming_movies</th>\n",
       "      <th>paperless_billing</th>\n",
       "      <th>monthly_charges</th>\n",
       "      <th>total_charges</th>\n",
       "      <th>churn</th>\n",
       "      <th>contract_type</th>\n",
       "      <th>internet_service_type</th>\n",
       "      <th>payment_type</th>\n",
       "    </tr>\n",
       "  </thead>\n",
       "  <tbody>\n",
       "    <tr>\n",
       "      <th>2865</th>\n",
       "      <td>4083-BFNYK</td>\n",
       "      <td>Female</td>\n",
       "      <td>1</td>\n",
       "      <td>Yes</td>\n",
       "      <td>No</td>\n",
       "      <td>38</td>\n",
       "      <td>Yes</td>\n",
       "      <td>Yes</td>\n",
       "      <td>Yes</td>\n",
       "      <td>Yes</td>\n",
       "      <td>...</td>\n",
       "      <td>No</td>\n",
       "      <td>No</td>\n",
       "      <td>Yes</td>\n",
       "      <td>No</td>\n",
       "      <td>95.00</td>\n",
       "      <td>3591.25</td>\n",
       "      <td>No</td>\n",
       "      <td>One year</td>\n",
       "      <td>Fiber optic</td>\n",
       "      <td>Credit card (automatic)</td>\n",
       "    </tr>\n",
       "    <tr>\n",
       "      <th>4107</th>\n",
       "      <td>5804-LEPIM</td>\n",
       "      <td>Female</td>\n",
       "      <td>1</td>\n",
       "      <td>No</td>\n",
       "      <td>No</td>\n",
       "      <td>2</td>\n",
       "      <td>Yes</td>\n",
       "      <td>No</td>\n",
       "      <td>No</td>\n",
       "      <td>No</td>\n",
       "      <td>...</td>\n",
       "      <td>No</td>\n",
       "      <td>No</td>\n",
       "      <td>No</td>\n",
       "      <td>Yes</td>\n",
       "      <td>70.35</td>\n",
       "      <td>139.05</td>\n",
       "      <td>Yes</td>\n",
       "      <td>Month-to-month</td>\n",
       "      <td>Fiber optic</td>\n",
       "      <td>Electronic check</td>\n",
       "    </tr>\n",
       "    <tr>\n",
       "      <th>3453</th>\n",
       "      <td>4895-TMWIR</td>\n",
       "      <td>Male</td>\n",
       "      <td>1</td>\n",
       "      <td>Yes</td>\n",
       "      <td>No</td>\n",
       "      <td>11</td>\n",
       "      <td>Yes</td>\n",
       "      <td>No</td>\n",
       "      <td>No internet service</td>\n",
       "      <td>No internet service</td>\n",
       "      <td>...</td>\n",
       "      <td>No internet service</td>\n",
       "      <td>No internet service</td>\n",
       "      <td>No internet service</td>\n",
       "      <td>No</td>\n",
       "      <td>19.95</td>\n",
       "      <td>214.75</td>\n",
       "      <td>Yes</td>\n",
       "      <td>Month-to-month</td>\n",
       "      <td>NaN</td>\n",
       "      <td>Mailed check</td>\n",
       "    </tr>\n",
       "    <tr>\n",
       "      <th>923</th>\n",
       "      <td>1342-JPNKI</td>\n",
       "      <td>Male</td>\n",
       "      <td>0</td>\n",
       "      <td>No</td>\n",
       "      <td>No</td>\n",
       "      <td>10</td>\n",
       "      <td>Yes</td>\n",
       "      <td>Yes</td>\n",
       "      <td>No</td>\n",
       "      <td>No</td>\n",
       "      <td>...</td>\n",
       "      <td>No</td>\n",
       "      <td>Yes</td>\n",
       "      <td>No</td>\n",
       "      <td>Yes</td>\n",
       "      <td>86.05</td>\n",
       "      <td>834.1</td>\n",
       "      <td>Yes</td>\n",
       "      <td>Month-to-month</td>\n",
       "      <td>Fiber optic</td>\n",
       "      <td>Bank transfer (automatic)</td>\n",
       "    </tr>\n",
       "    <tr>\n",
       "      <th>2370</th>\n",
       "      <td>3397-AVTKU</td>\n",
       "      <td>Male</td>\n",
       "      <td>0</td>\n",
       "      <td>No</td>\n",
       "      <td>No</td>\n",
       "      <td>43</td>\n",
       "      <td>Yes</td>\n",
       "      <td>No</td>\n",
       "      <td>No</td>\n",
       "      <td>Yes</td>\n",
       "      <td>...</td>\n",
       "      <td>No</td>\n",
       "      <td>No</td>\n",
       "      <td>Yes</td>\n",
       "      <td>Yes</td>\n",
       "      <td>60.00</td>\n",
       "      <td>2548.55</td>\n",
       "      <td>No</td>\n",
       "      <td>Two year</td>\n",
       "      <td>DSL</td>\n",
       "      <td>Electronic check</td>\n",
       "    </tr>\n",
       "  </tbody>\n",
       "</table>\n",
       "<p>5 rows × 21 columns</p>\n",
       "</div>"
      ],
      "text/plain": [
       "     customer_id  gender  senior_citizen partner dependents  tenure  \\\n",
       "2865  4083-BFNYK  Female               1     Yes         No      38   \n",
       "4107  5804-LEPIM  Female               1      No         No       2   \n",
       "3453  4895-TMWIR    Male               1     Yes         No      11   \n",
       "923   1342-JPNKI    Male               0      No         No      10   \n",
       "2370  3397-AVTKU    Male               0      No         No      43   \n",
       "\n",
       "     phone_service multiple_lines      online_security        online_backup  \\\n",
       "2865           Yes            Yes                  Yes                  Yes   \n",
       "4107           Yes             No                   No                   No   \n",
       "3453           Yes             No  No internet service  No internet service   \n",
       "923            Yes            Yes                   No                   No   \n",
       "2370           Yes             No                   No                  Yes   \n",
       "\n",
       "      ...         tech_support         streaming_tv     streaming_movies  \\\n",
       "2865  ...                   No                   No                  Yes   \n",
       "4107  ...                   No                   No                   No   \n",
       "3453  ...  No internet service  No internet service  No internet service   \n",
       "923   ...                   No                  Yes                   No   \n",
       "2370  ...                   No                   No                  Yes   \n",
       "\n",
       "     paperless_billing monthly_charges  total_charges churn   contract_type  \\\n",
       "2865                No           95.00        3591.25    No        One year   \n",
       "4107               Yes           70.35         139.05   Yes  Month-to-month   \n",
       "3453                No           19.95         214.75   Yes  Month-to-month   \n",
       "923                Yes           86.05          834.1   Yes  Month-to-month   \n",
       "2370               Yes           60.00        2548.55    No        Two year   \n",
       "\n",
       "     internet_service_type               payment_type  \n",
       "2865           Fiber optic    Credit card (automatic)  \n",
       "4107           Fiber optic           Electronic check  \n",
       "3453                   NaN               Mailed check  \n",
       "923            Fiber optic  Bank transfer (automatic)  \n",
       "2370                   DSL           Electronic check  \n",
       "\n",
       "[5 rows x 21 columns]"
      ]
     },
     "execution_count": 4,
     "metadata": {},
     "output_type": "execute_result"
    }
   ],
   "source": [
    "train.head() #head of train data"
   ]
  },
  {
   "cell_type": "markdown",
   "id": "afd2388a-74d1-40a9-95ae-fb6b81cd0443",
   "metadata": {},
   "source": [
    "### The column names and number of unique values"
   ]
  },
  {
   "cell_type": "code",
   "execution_count": 5,
   "id": "c0d8550a-376e-48dc-b5c7-66a67bd0b7c7",
   "metadata": {
    "tags": []
   },
   "outputs": [
    {
     "data": {
      "text/plain": [
       "customer_id              4225\n",
       "gender                      2\n",
       "senior_citizen              2\n",
       "partner                     2\n",
       "dependents                  2\n",
       "tenure                     73\n",
       "phone_service               2\n",
       "multiple_lines              3\n",
       "online_security             3\n",
       "online_backup               3\n",
       "device_protection           3\n",
       "tech_support                3\n",
       "streaming_tv                3\n",
       "streaming_movies            3\n",
       "paperless_billing           2\n",
       "monthly_charges          1374\n",
       "total_charges            4006\n",
       "churn                       2\n",
       "contract_type               3\n",
       "internet_service_type       2\n",
       "payment_type                4\n",
       "dtype: int64"
      ]
     },
     "execution_count": 5,
     "metadata": {},
     "output_type": "execute_result"
    }
   ],
   "source": [
    "train.nunique() #unique values amongst each column"
   ]
  },
  {
   "cell_type": "markdown",
   "id": "4f394c0a-034a-48b2-9bd7-6f4361f9b7f1",
   "metadata": {},
   "source": [
    "## Explore"
   ]
  },
  {
   "cell_type": "markdown",
   "id": "8c889d0c-41d2-432f-980b-2c22db2f15ff",
   "metadata": {},
   "source": [
    "### Distribution of Contract Type and Tech Support"
   ]
  },
  {
   "cell_type": "code",
   "execution_count": 6,
   "id": "042b5f02-b46f-4bf7-a1bb-4f7301a89e5a",
   "metadata": {
    "tags": []
   },
   "outputs": [
    {
     "data": {
      "image/png": "[encoded data removed]",
      "text/plain": [
       "<Figure size 1600x300 with 2 Axes>"
      ]
     },
     "metadata": {},
     "output_type": "display_data"
    }
   ],
   "source": [
    "plt.figure(figsize=(16, 3))\n",
    "cols = ['contract_type', 'tech_support'] # List of columns\n",
    "for i, col in enumerate(cols):\n",
    "    plot_number = i + 1 # i starts at 0, but plot nos should start at 1\n",
    "    plt.subplot(1,5, plot_number) # Create subplot.\n",
    "    plt.title(col) # Title with column name.\n",
    "    train[col].hist(bins=3) # Display histogram for column.\n",
    "    plt.grid(False) # Hide gridlines."
   ]
  },
  {
   "cell_type": "markdown",
   "id": "cc8ba1cb-66b5-4b61-9fd3-95b438d3f494",
   "metadata": {},
   "source": [
    "### Distribution of Tenure"
   ]
  },
  {
   "cell_type": "code",
   "execution_count": 7,
   "id": "39468732-8b79-4abc-adc5-7a0cd726d028",
   "metadata": {
    "tags": []
   },
   "outputs": [
    {
     "name": "stderr",
     "output_type": "stream",
     "text": [
      "/opt/homebrew/anaconda3/lib/python3.11/site-packages/seaborn/_oldcore.py:1498: FutureWarning: is_categorical_dtype is deprecated and will be removed in a future version. Use isinstance(dtype, CategoricalDtype) instead\n",
      "  if pd.api.types.is_categorical_dtype(vector):\n",
      "/opt/homebrew/anaconda3/lib/python3.11/site-packages/seaborn/_oldcore.py:1119: FutureWarning: use_inf_as_na option is deprecated and will be removed in a future version. Convert inf values to NaN before operating instead.\n",
      "  with pd.option_context('mode.use_inf_as_na', True):\n"
     ]
    },
    {
     "data": {
      "image/png": "[encoded data removed]",
      "text/plain": [
       "<Figure size 500x500 with 1 Axes>"
      ]
     },
     "metadata": {},
     "output_type": "display_data"
    }
   ],
   "source": [
    "sns.displot(x='tenure', data=train) #plot distribution of tenure\n",
    "warnings.filterwarnings(\"ignore\")\n",
    "plt.title('Tenure') \n",
    "plt.show()"
   ]
  },
  {
   "cell_type": "markdown",
   "id": "187c304c-5f1f-44d6-aede-7185ca07b231",
   "metadata": {},
   "source": [
    "### Distribution of Monthly Charges"
   ]
  },
  {
   "cell_type": "code",
   "execution_count": 8,
   "id": "4524c80e",
   "metadata": {
    "tags": []
   },
   "outputs": [
    {
     "data": {
      "image/png": "[encoded data removed]",
      "text/plain": [
       "<Figure size 500x500 with 1 Axes>"
      ]
     },
     "metadata": {},
     "output_type": "display_data"
    }
   ],
   "source": [
    "sns.displot(x='monthly_charges', data=train) #plot distribution of monthly charges\n",
    "warnings.filterwarnings(\"ignore\")\n",
    "plt.title('Monthly Charges')\n",
    "plt.show()"
   ]
  },
  {
   "cell_type": "markdown",
   "id": "437c2a05-e807-4d94-b770-ff17beea3711",
   "metadata": {},
   "source": [
    "### Does length of tenure effect churn?"
   ]
  },
  {
   "cell_type": "code",
   "execution_count": 9,
   "id": "3f41278b-ddbb-4e9f-9f22-ecd2f873429a",
   "metadata": {
    "tags": []
   },
   "outputs": [
    {
     "data": {
      "image/png": "[encoded data removed]",
      "text/plain": [
       "<Figure size 640x480 with 1 Axes>"
      ]
     },
     "metadata": {},
     "output_type": "display_data"
    }
   ],
   "source": [
    "sns.boxplot(x='churn', y='tenure', data=train) # boxplot of tenure between churn and no churn\n",
    "plt.show()"
   ]
  },
  {
   "cell_type": "markdown",
   "id": "0c68ff4a-7452-42cf-9e04-41a2c94a1357",
   "metadata": {},
   "source": [
    "#### Using statistics we will investigate further into whether or not tenure and churn are related"
   ]
  },
  {
   "cell_type": "markdown",
   "id": "658ed8f3-6678-4b53-8987-63115b59929b",
   "metadata": {},
   "source": [
    "$H_0$: There is no relationship between tenure and churn\n",
    "\n",
    "$H_a$: There is a relationship between tenure and churn\n",
    "\n",
    "alpha = 0.05"
   ]
  },
  {
   "cell_type": "markdown",
   "id": "e6f4a870-9c94-43c3-ba4b-bb0b1657f8aa",
   "metadata": {},
   "source": [
    "> Check for normality of the tenure data"
   ]
  },
  {
   "cell_type": "code",
   "execution_count": 10,
   "id": "adc9573a-5e8c-4d4f-80b9-9796256c86af",
   "metadata": {
    "tags": []
   },
   "outputs": [
    {
     "name": "stdout",
     "output_type": "stream",
     "text": [
      "Shapiro-Wilk Test Statistic: 0.9031785726547241\n",
      "P-value: 1.401298464324817e-45\n",
      "The data is not normally distributed.\n"
     ]
    }
   ],
   "source": [
    "# Shapiro-Wilk test for normality\n",
    "statistic, p_value = stats.shapiro(train.tenure)\n",
    "\n",
    "# Print the results\n",
    "print(f\"Shapiro-Wilk Test Statistic: {statistic}\")\n",
    "print(f\"P-value: {p_value}\")\n",
    "\n",
    "# Check if the data is normally distributed\n",
    "alpha = 0.05  # Set your significance level\n",
    "if p_value < alpha:\n",
    "    print(\"The data is not normally distributed.\")\n",
    "else:\n",
    "    print(\"The data appears to be normally distributed.\")\n"
   ]
  },
  {
   "cell_type": "markdown",
   "id": "29587e45-3665-4fa2-8d96-55d54da51c63",
   "metadata": {},
   "source": [
    "> The data is not normally distributed so we will use Mann-Whitney U to test for statistical significance "
   ]
  },
  {
   "cell_type": "code",
   "execution_count": 11,
   "id": "9f1d94e2-6b6a-490e-b4dc-41eae1e7e8d2",
   "metadata": {
    "tags": []
   },
   "outputs": [
    {
     "name": "stdout",
     "output_type": "stream",
     "text": [
      "Mann-Whitney U statistic: 901230.5\n",
      "P-value: 6.210946074407514e-127\n",
      "There is a statistically significant difference in tenure between churned and non-churned groups.\n"
     ]
    }
   ],
   "source": [
    "# Extract the relevant columns\n",
    "tenure_churned = train[train.churn == 'Yes']['tenure']\n",
    "tenure_not_churned = train[train.churn == 'No']['tenure']\n",
    "\n",
    "# Perform the Mann-Whitney U test\n",
    "statistic, p_value = stats.mannwhitneyu(tenure_churned, tenure_not_churned)\n",
    "\n",
    "# Print the results\n",
    "print(f\"Mann-Whitney U statistic: {statistic}\")\n",
    "print(f\"P-value: {p_value}\")\n",
    "\n",
    "# Check if the difference in means is statistically significant\n",
    "alpha = 0.05  # Set your significance level\n",
    "if p_value < alpha:\n",
    "    print(\"There is a statistically significant difference in tenure between churned and non-churned groups.\")\n",
    "else:\n",
    "    print(\"There is no statistically significant difference in tenure between churned and non-churned groups.\")\n"
   ]
  },
  {
   "cell_type": "markdown",
   "id": "57214523-6fdd-4539-8a0c-85fabb4b3fed",
   "metadata": {},
   "source": [
    "> #### We fail to reject the null hypothesis and can conclude that there is a statistically significant difference between the tenure of churned costomers compared to the tenure of customers who did not churn"
   ]
  },
  {
   "cell_type": "markdown",
   "id": "cebc5137-daa3-4b57-b294-91894dad1436",
   "metadata": {},
   "source": [
    "## Does the type of contract effect churn?"
   ]
  },
  {
   "cell_type": "code",
   "execution_count": 12,
   "id": "926c24e4-157f-4388-985a-e3fa82606226",
   "metadata": {
    "tags": []
   },
   "outputs": [
    {
     "data": {
      "image/png": "[encoded data removed]",
      "text/plain": [
       "<Figure size 640x480 with 1 Axes>"
      ]
     },
     "metadata": {},
     "output_type": "display_data"
    }
   ],
   "source": [
    "sns.countplot(x='contract_type', hue='churn', data=train) #boxplot of churn amongst different contract types\n",
    "plt.show()"
   ]
  },
  {
   "cell_type": "markdown",
   "id": "b5b5f549-46ec-42f3-b054-d6542b24359f",
   "metadata": {},
   "source": [
    "> #### Customers on a month-to-month contract appear to churn at a significantly higher rate"
   ]
  },
  {
   "cell_type": "markdown",
   "id": "6f957b96-0be5-48c5-bb6d-1d849e0ace99",
   "metadata": {},
   "source": [
    "## Do monthly charges effect churn?"
   ]
  },
  {
   "cell_type": "code",
   "execution_count": 13,
   "id": "c0ebf0d5-265c-46ce-995f-80d8115a8fd1",
   "metadata": {
    "tags": []
   },
   "outputs": [
    {
     "data": {
      "image/png": "[encoded data removed]",
      "text/plain": [
       "<Figure size 640x480 with 1 Axes>"
      ]
     },
     "metadata": {},
     "output_type": "display_data"
    }
   ],
   "source": [
    "sns.boxplot(x='churn', y='monthly_charges', data=df) #boxplot of monthly charges between churn and no churn\n",
    "plt.show()"
   ]
  },
  {
   "cell_type": "markdown",
   "id": "17e497c9-9cdd-4239-aba3-c47168d3c58e",
   "metadata": {},
   "source": [
    "#### Using statistics we will investigate further into whether or not monthly_charges and churn are related"
   ]
  },
  {
   "cell_type": "markdown",
   "id": "d78616d3-b536-401e-bb12-2c413c6cd5e3",
   "metadata": {
    "tags": []
   },
   "source": [
    "$H_0$: There is no relationship between monthly charges and churn\n",
    "\n",
    "$H_a$: There is a relationship between monthly charges and churn\n",
    "\n",
    "alpha = 0.05"
   ]
  },
  {
   "cell_type": "markdown",
   "id": "a1c3da71-0fc1-49c8-921c-761e2c3e4a64",
   "metadata": {
    "tags": []
   },
   "source": [
    "> Check for normality of the monthly charges data"
   ]
  },
  {
   "cell_type": "code",
   "execution_count": 14,
   "id": "ba83c6f4-0efc-4f02-90d9-abca5c81de61",
   "metadata": {
    "tags": []
   },
   "outputs": [
    {
     "name": "stdout",
     "output_type": "stream",
     "text": [
      "Shapiro-Wilk Test Statistic: 0.9185670018196106\n",
      "P-value: 5.647232811229013e-43\n",
      "The data is not normally distributed.\n"
     ]
    }
   ],
   "source": [
    "# Shapiro-Wilk test for normality\n",
    "statistic, p_value = stats.shapiro(train.monthly_charges)\n",
    "\n",
    "# Print the results\n",
    "print(f\"Shapiro-Wilk Test Statistic: {statistic}\")\n",
    "print(f\"P-value: {p_value}\")\n",
    "\n",
    "# Check if the data is normally distributed\n",
    "alpha = 0.05  # Set your significance level\n",
    "if p_value < alpha:\n",
    "    print(\"The data is not normally distributed.\")\n",
    "else:\n",
    "    print(\"The data appears to be normally distributed.\")"
   ]
  },
  {
   "cell_type": "markdown",
   "id": "34a29702-2d6b-4e3e-ab36-8175f4e0220c",
   "metadata": {},
   "source": [
    "> The data is not normally distributed so we will use Mann-Whitney U to test for statistical significance "
   ]
  },
  {
   "cell_type": "code",
   "execution_count": 15,
   "id": "bdce43e7-4adb-4fda-a762-b58fc7e992f9",
   "metadata": {
    "tags": []
   },
   "outputs": [
    {
     "name": "stdout",
     "output_type": "stream",
     "text": [
      "Mann-Whitney U statistic: 2136241.0\n",
      "P-value: 9.83259830397179e-30\n",
      "There is a statistically significant difference in Monthly Charges between churned and non-churned groups.\n"
     ]
    }
   ],
   "source": [
    "# Extract the relevant columns\n",
    "monthly_charges_churned = train[train.churn == 'Yes']['monthly_charges']\n",
    "monthly_charges_not_churned = train[train.churn == 'No']['monthly_charges']\n",
    "\n",
    "# Perform the Mann-Whitney U test\n",
    "statistic, p_value = stats.mannwhitneyu(monthly_charges_churned, monthly_charges_not_churned)\n",
    "\n",
    "# Print the results\n",
    "print(f\"Mann-Whitney U statistic: {statistic}\")\n",
    "print(f\"P-value: {p_value}\")\n",
    "\n",
    "# Check if the difference in means is statistically significant\n",
    "alpha = 0.05  # Set your significance level\n",
    "if p_value < alpha:\n",
    "    print(\"There is a statistically significant difference in Monthly Charges between churned and non-churned groups.\")\n",
    "else:\n",
    "    print(\"There is no statistically significant difference in Monthly Charges between churned and non-churned groups.\")"
   ]
  },
  {
   "cell_type": "markdown",
   "id": "d7eba7e5-4875-4b3c-b144-10c0065ea458",
   "metadata": {},
   "source": [
    "> #### We fail to reject the null hypothesis and can conclude that there is a statistically significant difference between the monthly charges of customers who churned compared to the monthly charges of customers who did not churn"
   ]
  },
  {
   "cell_type": "markdown",
   "id": "8d0b3c62-f380-4360-ad67-58457d46e6c9",
   "metadata": {},
   "source": [
    "## Does having tech support effect churn?"
   ]
  },
  {
   "cell_type": "code",
   "execution_count": 16,
   "id": "b358f676-9bc8-4daa-b230-67b4831d1ad4",
   "metadata": {
    "tags": []
   },
   "outputs": [
    {
     "data": {
      "image/png": "[encoded data removed]",
      "text/plain": [
       "<Figure size 640x480 with 1 Axes>"
      ]
     },
     "metadata": {},
     "output_type": "display_data"
    }
   ],
   "source": [
    "sns.countplot(x='tech_support', hue='churn', data=df) #plot churn amongst tech support feature\n",
    "plt.show()"
   ]
  },
  {
   "cell_type": "markdown",
   "id": "29a3109c-bb1e-4c0b-974c-c34759cdde39",
   "metadata": {
    "tags": []
   },
   "source": [
    "> #### Customers with no tech support appear to churn at a significantly higher rate"
   ]
  },
  {
   "cell_type": "markdown",
   "id": "695fa75f-85eb-4271-bdb1-6ef181aa8bb8",
   "metadata": {},
   "source": [
    "## Exploration Summary"
   ]
  },
  {
   "cell_type": "markdown",
   "id": "9f00caec-eb1d-4d63-b87b-a9e9f201c758",
   "metadata": {},
   "source": [
    "- \"Tenure\" was found to be a driver of \"Churn\"\n",
    "    - Less tenured customers were more likely to churn\n",
    "- \"Monthly Charges\" was found to be a driver of \"Churn\"\n",
    "    - Higher monthly charges correlated with higher churn\n",
    "- \"Type of Contract\" was found to be a driver of \"Churn\"\n",
    "    - Customers on a month-to-month contract were more likely to churn\n",
    "- \"Tech Support\" was found to be a driver of \"Churn\"\n",
    "    - Customers with no tech support were more likely to churn"
   ]
  },
  {
   "cell_type": "markdown",
   "id": "9772f741-513f-4403-95b0-9f5dcdc34d14",
   "metadata": {},
   "source": [
    "## Modeling"
   ]
  },
  {
   "cell_type": "markdown",
   "id": "e615a6d5-ccec-445e-9f0b-2cb06da3fdba",
   "metadata": {},
   "source": [
    "- I will use accuracy as my evaluation metric\n",
    "- Customers who did not churn make up 73.47% of the data\n",
    "- 73.47% will be the baseline accuracy I use for this project"
   ]
  },
  {
   "cell_type": "code",
   "execution_count": 17,
   "id": "eeefa074-759f-478f-9fb1-39e356b790b6",
   "metadata": {
    "tags": []
   },
   "outputs": [
    {
     "data": {
      "text/plain": [
       "0.7346745562130178"
      ]
     },
     "execution_count": 17,
     "metadata": {},
     "output_type": "execute_result"
    }
   ],
   "source": [
    "(train.churn == 'No').mean() #percentage of customers who did not churn"
   ]
  },
  {
   "cell_type": "code",
   "execution_count": 18,
   "id": "940b45cc-35d1-42dd-9a53-922967a9ec27",
   "metadata": {
    "tags": []
   },
   "outputs": [],
   "source": [
    "# encoding the data\n",
    "df_encoded = prepare.encode_telco(df)\n",
    "# split the data\n",
    "train, validate, test = prepare.splitting_data(df_encoded, 'churned')"
   ]
  },
  {
   "cell_type": "code",
   "execution_count": 19,
   "id": "0f20fc3b-30c2-4b84-8f20-2a5e42b72212",
   "metadata": {
    "tags": []
   },
   "outputs": [],
   "source": [
    "# prepare the data for modeling\n",
    "X_train = train.drop(columns='churned')\n",
    "X_validate = validate.drop(columns='churned')\n",
    "X_test = test.drop(columns='churned')\n",
    "\n",
    "y_train = train.churned\n",
    "y_validate = validate.churned\n",
    "y_test = test.churned"
   ]
  },
  {
   "cell_type": "markdown",
   "id": "47005d8f-3023-437f-926a-534dff5b167b",
   "metadata": {
    "tags": []
   },
   "source": [
    "## Decision Tree"
   ]
  },
  {
   "cell_type": "code",
   "execution_count": 20,
   "id": "378ce561-9f7f-4175-8435-33ec3b6f8b16",
   "metadata": {
    "tags": []
   },
   "outputs": [
    {
     "name": "stdout",
     "output_type": "stream",
     "text": [
      "With a max depth of 8, train accuracy = 0.82, validate accuracy = 0.79\n"
     ]
    }
   ],
   "source": [
    "#create the object\n",
    "tree = DecisionTreeClassifier(max_depth=8)\n",
    "    \n",
    "#fit the object\n",
    "tree.fit(X_train, y_train) #fit only on TRAIN DATA!\n",
    "    \n",
    "#calculate the accuracy for train\n",
    "acc = tree.score(X_train, y_train)\n",
    "    \n",
    "#calculate the accuracy for validate\n",
    "acc_v = tree.score(X_validate, y_validate)\n",
    "    \n",
    "print(f'With a max depth of 8, train accuracy = {round(acc,2)}, validate accuracy = {round(acc_v,2)}')"
   ]
  },
  {
   "cell_type": "markdown",
   "id": "6888ff0f-629e-4dc9-8d67-fe8cb4cc321a",
   "metadata": {},
   "source": [
    "#### Decision Tree accuracy is better than baseline"
   ]
  },
  {
   "cell_type": "markdown",
   "id": "a9b97490-d0bd-43d3-bff3-0807d469eb1b",
   "metadata": {},
   "source": [
    "## Random Forest"
   ]
  },
  {
   "cell_type": "code",
   "execution_count": 21,
   "id": "73a3947f-d411-4fb8-828b-70d61a28dd5c",
   "metadata": {
    "tags": []
   },
   "outputs": [
    {
     "name": "stdout",
     "output_type": "stream",
     "text": [
      "For min leaf samples = 1 and max depth = 10: train accuracy = 0.87, validate accuracy = 0.8\n"
     ]
    }
   ],
   "source": [
    "#create the object\n",
    "rf = RandomForestClassifier(min_samples_leaf=1, max_depth=10, random_state=123)\n",
    "\n",
    "#fit the object\n",
    "rf.fit(X_train, y_train)\n",
    "\n",
    "y_pred = rf.predict(X_train)\n",
    "\n",
    "#calculate the accuracy for train\n",
    "t_acc = rf.score(X_train, y_train)\n",
    "\n",
    "#calculate the accuracy for validate\n",
    "v_acc = rf.score(X_validate, y_validate)\n",
    "    \n",
    "print(f'For min leaf samples = 1 and max depth = 10: train accuracy = {round(t_acc,2)}, validate accuracy = {round(v_acc,2)}')"
   ]
  },
  {
   "cell_type": "markdown",
   "id": "26daefc1-88a7-4ada-a697-7ab7a3c08a96",
   "metadata": {},
   "source": [
    "#### Random Forest accuracy is better than baseline"
   ]
  },
  {
   "cell_type": "markdown",
   "id": "63d768ce-6266-4cee-85c5-89d03c85d664",
   "metadata": {},
   "source": [
    "## K-Nearest Neighbors"
   ]
  },
  {
   "cell_type": "code",
   "execution_count": 22,
   "id": "77619c3f-3ec0-492c-89dd-85b1561d28bf",
   "metadata": {
    "tags": []
   },
   "outputs": [
    {
     "name": "stdout",
     "output_type": "stream",
     "text": [
      "For k = 5: train accuracy = 0.84, validate accuracy = 0.76\n"
     ]
    }
   ],
   "source": [
    "#create the object\n",
    "knn = KNeighborsClassifier()\n",
    "\n",
    "#fit the object\n",
    "knn.fit(X_train, y_train)\n",
    "\n",
    "y_pred = knn.predict(X_train)\n",
    "\n",
    "#calculate the accuracy for train\n",
    "t_acc = knn.score(X_train, y_train)\n",
    "\n",
    "#calculate the accuracy for validate\n",
    "v_acc = knn.score(X_validate, y_validate)\n",
    "\n",
    "print(f'For k = 5: train accuracy = {round(t_acc,2)}, validate accuracy = {round(v_acc,2)}')"
   ]
  },
  {
   "cell_type": "markdown",
   "id": "e73ec393-d156-4963-9851-1aa881087b6c",
   "metadata": {},
   "source": [
    "#### KNN accuracy is better than baseline"
   ]
  },
  {
   "cell_type": "markdown",
   "id": "b82fd7eb-3248-45b4-b21c-98eab953e123",
   "metadata": {},
   "source": [
    "## Comparing Models"
   ]
  },
  {
   "cell_type": "markdown",
   "id": "58840308-b46e-41a4-a0f9-c5158a473287",
   "metadata": {},
   "source": [
    "- All models performed better than baseline with Random Forest performing best on the validate data\n",
    "- I will move forward with the Random Forest model"
   ]
  },
  {
   "cell_type": "markdown",
   "id": "8d7e4ded-166d-4231-ba84-c4e4754cb483",
   "metadata": {},
   "source": [
    "### Random Forest on Test"
   ]
  },
  {
   "cell_type": "code",
   "execution_count": 23,
   "id": "b28d1f21-76dd-46d0-89ae-5adb6145a3e2",
   "metadata": {
    "tags": []
   },
   "outputs": [
    {
     "name": "stdout",
     "output_type": "stream",
     "text": [
      "The accuracy of the Random Forest model on the Test data = 0.79\n"
     ]
    }
   ],
   "source": [
    "#calculate the accuracy for validate\n",
    "t_acc = rf.score(X_test, y_test)\n",
    "    \n",
    "print(f'The accuracy of the Random Forest model on the Test data = {round(t_acc,2)}')"
   ]
  },
  {
   "cell_type": "markdown",
   "id": "c4266094-1fa8-4b35-8800-9155c366e5bb",
   "metadata": {},
   "source": [
    "#### Chart visualising how the model performed on Test data"
   ]
  },
  {
   "cell_type": "code",
   "execution_count": 24,
   "id": "e4abd69c-9da7-43a4-a4b4-9e9dbbc696e7",
   "metadata": {
    "tags": []
   },
   "outputs": [
    {
     "data": {
      "text/html": [
       "<div>\n",
       "<style scoped>\n",
       "    .dataframe tbody tr th:only-of-type {\n",
       "        vertical-align: middle;\n",
       "    }\n",
       "\n",
       "    .dataframe tbody tr th {\n",
       "        vertical-align: top;\n",
       "    }\n",
       "\n",
       "    .dataframe thead th {\n",
       "        text-align: right;\n",
       "    }\n",
       "</style>\n",
       "<table border=\"1\" class=\"dataframe\">\n",
       "  <thead>\n",
       "    <tr style=\"text-align: right;\">\n",
       "      <th>col_0</th>\n",
       "      <th>0</th>\n",
       "      <th>1</th>\n",
       "    </tr>\n",
       "    <tr>\n",
       "      <th>churned</th>\n",
       "      <th></th>\n",
       "      <th></th>\n",
       "    </tr>\n",
       "  </thead>\n",
       "  <tbody>\n",
       "    <tr>\n",
       "      <th>0</th>\n",
       "      <td>931</td>\n",
       "      <td>104</td>\n",
       "    </tr>\n",
       "    <tr>\n",
       "      <th>1</th>\n",
       "      <td>187</td>\n",
       "      <td>187</td>\n",
       "    </tr>\n",
       "  </tbody>\n",
       "</table>\n",
       "</div>"
      ],
      "text/plain": [
       "col_0      0    1\n",
       "churned          \n",
       "0        931  104\n",
       "1        187  187"
      ]
     },
     "execution_count": 24,
     "metadata": {},
     "output_type": "execute_result"
    }
   ],
   "source": [
    "#churned actual = churned\n",
    "#predicted churn = col_O\n",
    "y_pred = rf.predict(X_test)\n",
    "pd.crosstab(y_test, y_pred)"
   ]
  },
  {
   "cell_type": "markdown",
   "id": "d67bf0c7-faff-4c42-aa8b-b06ac39fa1c2",
   "metadata": {},
   "source": [
    "### Modeling Summary"
   ]
  },
  {
   "cell_type": "markdown",
   "id": "f1efce0f-2197-4eba-bfda-750172547700",
   "metadata": {},
   "source": [
    "- The results of the Decision Tree, Random Forest, and KNN models were all very similar and above baseline\n",
    "- A Random Forest model I selected as the final model had an accuracy of about 79% which is above the baseline accuracy"
   ]
  },
  {
   "cell_type": "markdown",
   "id": "f538d01d-1b4e-4c50-b622-fd8f61a36529",
   "metadata": {},
   "source": [
    "## Conclusion"
   ]
  },
  {
   "cell_type": "markdown",
   "id": "d0d1f3f7-af17-424b-8ee4-522d4af19a77",
   "metadata": {},
   "source": [
    "- Our original goals were to find drivers of churn and create a model to predict churn\n",
    "- We were able to determine that tenure, monthly charges, type of contract, and tech support all had a statistically significant correlation with churn\n",
    "- Using those features we were able to create a machine learning model that accurately predicted churn at a rate above baseline\n",
    "- Recomendations to minimize churn:\n",
    "    - Incentivize annual and biennial contract types because the month-to-month contracts had a significantly churn rate\n",
    "    - Ensure more customers sign up for tech support because customers with tech support churned significantly less\n",
    "    - Reward new customers for staying with the company because less tenure had a higher rate of churn\n",
    "    - Help customers keep their monthly payments low because higher monthly payments correlated with higher churn\n",
    "- If I had more time I would look into isolating a third variable like senior citizen, dependents, or partner. \n",
    "- I would also seperate the data of customers who had only internet and customers who had only phone service.\n",
    "- I would also look more into payment method because it looked like there was a significant correlation between electronic check payment and churn"
   ]
  }
 ],
 "metadata": {
  "kernelspec": {
   "display_name": "Python 3 (ipykernel)",
   "language": "python",
   "name": "python3"
  },
  "language_info": {
   "codemirror_mode": {
    "name": "ipython",
    "version": 3
   },
   "file_extension": ".py",
   "mimetype": "text/x-python",
   "name": "python",
   "nbconvert_exporter": "python",
   "pygments_lexer": "ipython3",
   "version": "3.11.5"
  }
 },
 "nbformat": 4,
 "nbformat_minor": 5
}
